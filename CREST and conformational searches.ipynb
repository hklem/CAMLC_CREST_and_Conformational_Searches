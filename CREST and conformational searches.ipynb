{
 "cells": [
  {
   "cell_type": "markdown",
   "id": "cfd66ef3-fbfc-471f-a0f0-317d0adcbe07",
   "metadata": {},
   "source": [
    "# CREST and conformational searches\n",
    "### [CREST](https://crest-lab.github.io/crest-docs/) (originally abbreviated from Conformer-Rotamer Ensemble Sampling Tool) is a program for the automated exploration of the low-energy molecular chemical space. It functions as an OMP (?) scheduler for calculations with efficient force-field and semiempirical quantum mechanical methods such as xTB, and provides a variety of capabilities for creation and analysis of structure ensembles.\n",
    "\n",
    "First, let's take a look at what version of CREST you are working with. Paying attention to program versions is critical for a few reasons:\n",
    "1. So you know what documentation to follow, because programs change! In fact, there are structured guidelines for [how Python program changes are reflected in version schemes](https://py-pkgs.org/07-releasing-versioning.html).\n",
    "2. If you are using multiple computing resources for the same project you want to make sure the version is the same, in case differences across versions can alter results (hint, use virtual environments to contain speficic versions!)\n",
    "3. Reproducibility! It is an absolute MUST to report what version of software you used in publications (even if the journal does not explicitly request it, this is a community standard). \n",
    "4. Can you think of any other reasons?"
   ]
  },
  {
   "cell_type": "code",
   "execution_count": 1,
   "id": "2d7b9236-d170-4f26-902d-1c1dc2fcaeee",
   "metadata": {
    "scrolled": true,
    "tags": []
   },
   "outputs": [
    {
     "name": "stdout",
     "output_type": "stream",
     "text": [
      "\n",
      "       ==============================================\n",
      "       |                                            |\n",
      "       |                 C R E S T                  |\n",
      "       |                                            |\n",
      "       |  Conformer-Rotamer Ensemble Sampling Tool  |\n",
      "       |          based on the GFN methods          |\n",
      "       |             P.Pracht, S.Grimme             |\n",
      "       |          Universitaet Bonn, MCTC           |\n",
      "       ==============================================\n",
      "       Version 2.12,   Thu 19. Mai 16:32:32 CEST 2022\n",
      "  Using the xTB program. Compatible with xTB version 6.4.0\n",
      "\n",
      "   Cite work conducted with this code as\n",
      "\n",
      "   • P.Pracht, F.Bohle, S.Grimme, PCCP, 2020, 22, 7169-7192.\n",
      "   • S.Grimme, JCTC, 2019, 15, 2847-2862.\n",
      "\n",
      "   and for works involving QCG as\n",
      "\n",
      "   • S.Spicher, C.Plett, P.Pracht, A.Hansen, S.Grimme,\n",
      "     JCTC, 2022, 18 (5), 3174-3189.\n",
      "\n",
      "   with help from:\n",
      "   C.Bannwarth, F.Bohle, S.Ehlert, S.Grimme,\n",
      "   C.Plett, P.Pracht, S.Spicher\n",
      "\n",
      "   This program is distributed in the hope that it will be useful,\n",
      "   but WITHOUT ANY WARRANTY; without even the implied warranty of\n",
      "   MERCHANTABILITY or FITNESS FOR A PARTICULAR PURPOSE.\n"
     ]
    }
   ],
   "source": [
    "  ! crest --version"
   ]
  },
  {
   "cell_type": "markdown",
   "id": "853f6d2d-c145-48ab-9800-7cc9241c0da4",
   "metadata": {},
   "source": [
    "<div class=\"alert alert-block alert-warning\">\n",
    "<b>CREST check</b>\n",
    "    \n",
    "Is anyone unable to get CREST to run? \n",
    "\n",
    "Double check your virtual environment (conda activate cheminf)."
   ]
  },
  {
   "cell_type": "code",
   "execution_count": 2,
   "id": "8fb560ea-ce8b-43cb-a43b-2c8ecb4ca054",
   "metadata": {},
   "outputs": [
    {
     "name": "stdout",
     "output_type": "stream",
     "text": [
      "\n",
      "       ==============================================\n",
      "       |                                            |\n",
      "       |                 C R E S T                  |\n",
      "       |                                            |\n",
      "       |  Conformer-Rotamer Ensemble Sampling Tool  |\n",
      "       |          based on the GFN methods          |\n",
      "       |             P.Pracht, S.Grimme             |\n",
      "       |          Universitaet Bonn, MCTC           |\n",
      "       ==============================================\n",
      "       Version 2.12,   Thu 19. Mai 16:32:32 CEST 2022\n",
      "  Using the xTB program. Compatible with xTB version 6.4.0\n",
      "\n",
      "   Cite work conducted with this code as\n",
      "\n",
      "   • P.Pracht, F.Bohle, S.Grimme, PCCP, 2020, 22, 7169-7192.\n",
      "   • S.Grimme, JCTC, 2019, 15, 2847-2862.\n",
      "\n",
      "   and for works involving QCG as\n",
      "\n",
      "   • S.Spicher, C.Plett, P.Pracht, A.Hansen, S.Grimme,\n",
      "     JCTC, 2022, 18 (5), 3174-3189.\n",
      "\n",
      "   with help from:\n",
      "   C.Bannwarth, F.Bohle, S.Ehlert, S.Grimme,\n",
      "   C.Plett, P.Pracht, S.Spicher\n",
      "\n",
      "   This program is distributed in the hope that it will be useful,\n",
      "   but WITHOUT ANY WARRANTY; without even the implied warranty of\n",
      "   MERCHANTABILITY or FITNESS FOR A PARTICULAR PURPOSE.\n",
      "\n",
      " Command line input:\n",
      " > crest -h\n",
      "\n",
      "\n",
      " usage        :\n",
      " crest [input] [options]\n",
      "\n",
      " The FIRST argument CAN be a coordinate file in the\n",
      " TM (coord, Bohr) or Xmol (*.xyz, Ang.) format.\n",
      " If no such file is present as the first argument crest will\n",
      " automatically search for a file called \"coord\" in the TM format.\n",
      "\n",
      " General and technical options:\n",
      "     -v1                : use the MF-MD-GC workflow. (OUTDATED)\n",
      "     -v2                : use the MTD-GC workflow. (OUTDATED)\n",
      "     -v3 (or -v2i)      : use the iMTD-GC workflow. [default]\n",
      "     -v4                : use the iMTD-sMTD workflow.\n",
      "     -entropy           : the same workflow as with \"-v4\", specialized\n",
      "                          for the calculation of conformational entropy.\n",
      "     -xnam <\"bin\">      : specify name of the xtb binary\n",
      "                          that should be used.\n",
      "     -niceprint         : progress bar printout for optimizations\n",
      "     -dry               : perform a \"dry run\". Only prints the settings\n",
      "                          that would be applied with the CMD input\n",
      "                          and stops the run before any calculations\n",
      "     -T <int>           : Set total number of CPUs(threads)\n",
      "                          to be used. Parallel settings are then\n",
      "                          determined automatically for each step.\n",
      "                          If not set by \"-T\", this number is read\n",
      "                          from the OMP_NUM_THREADS global variable.\n",
      "\n",
      "\n",
      " Calculation options:\n",
      "     -g <string>        : use GBSA implicit solvent\n",
      "                          for solvent <string>\n",
      "     -alpb <string>     : use ALPB implicit solvent\n",
      "                          for solvent <string>\n",
      "     -chrg <int>        : set the molecules´ charge\n",
      "     -uhf <int>         : set <int>=Nα-Nβ electrons\n",
      "     -charges <file>    : copy a existing atomic charges file for\n",
      "                          all optimizations (can be used by GFN-FF)\n",
      "     -nozs              : do not perform z-mat sorting [default]\n",
      "     -opt <\"lev\">       : set opt. level for ALL GFN-xTB\n",
      "                          optimizations.\n",
      "                          <lev>=vloose,loose,normal,tight,vtight\n",
      "                          [default: vtight]\n",
      "     -gfn1              : use GFN1-xTB\n",
      "     -gfn2              : use GFN2-xTB [default]\n",
      "     -gff, -gfnff       : use GFN-FF (requires xtb 6.3 or newer)\n",
      "                          (for GFN-FF searches bond constraints are applied automatically)\n",
      "     -gfn2//gfnff       : GFN2-xTB//GFN-FF composite mode)\n",
      "   Adding additional constraints to the calculations:\n",
      "   The user is able to include additional constraints to ALL\n",
      "   xtb calculations that are conducted by CREST.\n",
      "     -cinp <file>       : read in a file containing the constraints.\n",
      "                          constraints have to be in the same format as in xtb.\n",
      "                          (this was done previously via the \".constrains\" file)\n",
      "     -cbonds            : define automatic bond constraints (set up from topology)\n",
      "     -nocbonds          : turn of -cbonds (for GFN-FF, mainly. see above)\n",
      "     -fc <float>        : define force constant for defined constraints (-cbonds)\n",
      "\n",
      "\n",
      " Options for ensemble comparisons:\n",
      "     -cregen [file]     : use ONLY the CREGEN subroutine\n",
      "                          to sort a given ensemble file.\n",
      "     -ewin <real>       : set energy window in kcal/mol,\n",
      "                          [default: 6.0 kcal/mol]\n",
      "     -rthr <real>       : set RMSD threshold in Ang,\n",
      "                          [default: 0.125 Ang]\n",
      "     -ethr <real>       : set E threshold in kcal/mol,\n",
      "                          [default: 0.05 kcal/mol]\n",
      "     -bthr <real>       : set Rot. const. threshold ,\n",
      "                          [default: 0.01 (= 1%)]\n",
      "     -pthr <real>       : Boltzmann population threshold\n",
      "                          [default: 0.05 (= 5%)]\n",
      "     -temp <real>       : set temperature in cregen, [default: 298.15 K]\n",
      "     -prsc              : create a scoord.* file for each conformer\n",
      "     -nowr              : don´t write new ensemble files\n",
      "     -eqv,-nmr,-entropy : compare nuclear equivalences (requires rotamers)\n",
      "     -cluster <int>     : PCA and k-Means clustering of sorted ensemble.\n",
      "                          Works as extenstion to the CREGEN sorting.\n",
      "                          <int> is the number of clusters to be formed.\n",
      "     -notopo            : turn off any topology checks in CREGEN.\n",
      "\n",
      "\n",
      " Options for the iMTD-GC workflows:\n",
      "     -cross             : do the GC part [default]\n",
      "     -nocross           : don´t do the GC part\n",
      "     -shake <int>       : set SHAKE mode for MD\n",
      "                          (0=off,1=H-only,2=all bonds) [default: 2]\n",
      "     -tstep <int>       : set MD time step in fs\n",
      "                          [default: 5 fs]\n",
      "     -mdlen/-len <real> : set MD length (all MTDs) in ps.\n",
      "                          Also possible are multiplicative factors\n",
      "                          for the default MD length with \"x<real>\"\n",
      "     -mddump <int>      : xyz dumpstep to Trajectory in fs\n",
      "                          [default: 100 fs]\n",
      "     -vbdump <real>     : set Vbias dump frequency in ps\n",
      "                          [default: 1.0 ps]\n",
      "     -tnmd <real>       : set temperature for additional normal MDs\n",
      "                          [default: 400 K]\n",
      "     -norotmd           : don´t do the regular MDs after the \n",
      "                          second multilevel optimization step\n",
      "     -hflip/-noflip     : turn on/off a small enhancement routine to\n",
      "                          rotate OH groups after MTD. [default: OFF]\n",
      "     -maxflip <int>     : max. number of new structures by the above\n",
      "                          enhancement routine. [default: 1000]\n",
      "     -quick             : perform a search with reduced settings\n",
      "                          for a crude ensemble.\n",
      "     -squick            : perform a even further reduced search\n",
      "     -mquick            : perform a search with maximum reduced settings\n",
      "                          (do not reduce the settings more than that)\n",
      "     -origin            : track the step of generation for\n",
      "                          each conformer/rotamer. [default]\n",
      "     -keepdir           : keep sub-directories of the conformer\n",
      "                          generation step.\n",
      "     -nci               : generate an ellipsoide potential around the\n",
      "                          input structure and add it to the MTD simulation.\n",
      "                          This can be used to find aggregates of NCI complexes.\n",
      "     -wscal <real>      : scale the ellipsoide potential axes by factor <real>.\n",
      "\n",
      "\n",
      " Thermostatistical options (used in entropy mode):\n",
      "     -trange <lower> <upper> <step>   : entropies are calculated for different temperatures.\n",
      "                                        these are calculated in a temperature range from\n",
      "                                        <lower> to <upper> with <step> in between.\n",
      "                                        [default: 280K-380K in 10K steps]\n",
      "     -fscal <float>     : frequency scaling factor. [default: 1.0]\n",
      "     -sthr <float>      : vibrational/rotational entropy interpolation threshold (τ)\n",
      "                          [default: 25.0 cm^-1]\n",
      "     -ithr <float>      : imaginary mode inversion cutoff [default: -50.0 cm^-1]\n",
      "     -ptot <float>      : sum of population for structures considered in msRRHO average.\n",
      "                          [default: 0.9 (=90%)]\n",
      "\n",
      "\n",
      " Quantum Cluster Growth (QCG)\n",
      " General usage :\n",
      "     <solute> -qcg <solvent> [options]\n",
      " options (additionally to the iMTD-GC options above):\n",
      "     -keepdir           : keep the tmp folder\n",
      "     -nopreopt          : do not perform preoptimization (only for qcg).\n",
      "     -grow              : cluster generation\n",
      "     -fixsolute         : fix the solute during the growth (recommended for rigid ones)\n",
      "                        : done automatically for water\n",
      "     -nofix             : fix the solute not during the growth (needed only for water)\n",
      "     -nsolv <INT>       : number of solvent molecules to add\n",
      "     -maxsolv           : set limit of convergence, if no number of solutes was given. Default 150 \n",
      "     -wscal <FLOAT>     : Scaling factor for outer wall potential\n",
      "     -samerand          : use same random number for every xtbiff run\n",
      "     -ensemble          : ensemble generation\n",
      "     -ncimtd            : NCI-MTD CREST ensemble generation (Default)\n",
      "     -mtd               : MTD for QCG ensemble generation\n",
      "     -md                : normal MD for QCG ensemble search\n",
      "     -enslvl [method]   : define a method for ensemble search. All gfn methods are supported\n",
      "     -esolv             : reference cluster generation and comp. of solvation energy\n",
      "     -gsolv             : reference cluster generation and comp. of solvation free energy\n",
      "     -nclus             : defines how many clusters are taken for reference cluster generation\n",
      "                        : default 4\n",
      "     -nocff             : switches off the CFF algorithm\n",
      "     -freqscal          : defines frequency scale factor. Only for outprint\n",
      "     -freqlvl [method]  : define a method for frequency computation. All gfn versions are supported\n",
      "\n",
      "\n",
      " Other tools for standalone use:\n",
      "     -zsort             : use only the zsort subroutine\n",
      "                          to sort the z-matrix of the input\n",
      "                          coord file.\n",
      "     -mdopt <file>      : optimize along trajectory or\n",
      "                          ensemble file in the XYZ format.\n",
      "                          Each point on the file is optimized.\n",
      "     -screen <file>     : optimize along ensemble file\n",
      "                          in the XYZ format. A multilevel\n",
      "                          optimization is performed with continiously\n",
      "                          increasing thresholds. After each step\n",
      "                          the ensemble file is sorted.\n",
      "     -protonate         : find a molecules protomes by using a\n",
      "                          LMO π- or LP-center approach.\n",
      "     -deprotonate       : find a molecules deprotomers.\n",
      "     -tautomerize       : combine the protonation and deprotonation\n",
      "                          to find prototropic tautomers.\n",
      "      ↳ -trev           : do first the deprotonation and then the\n",
      "                          protonation in the -tautomerize mode, i.e.,\n",
      "                          reverse of the default procedure.\n",
      "      ↳ -iter <int>     : set number of protonation/deprotonation cycles\n",
      "                          in the tautomerization script. [default: 2]\n",
      "     -compare <f1> <f2> : compare two ensembles <f1> and <f2>.\n",
      "                          Both ensembles must have the same\n",
      "                          order of atoms of the molecule and\n",
      "                          should contain rotamers.\n",
      "      ↳ -maxcomp <int>  : Selcect the lowest <int> conformers\n",
      "                          out of each ensemble to be compared\n",
      "                          with \"-compare\". [default: 10]\n",
      "     -testtopo <file>   : Analyze some stuctural info (topology) for a given file.\n",
      "     -constrain <atoms> : write example file \".xcontrol.sample\" for constraints\n",
      "                          in crest. (see -cinp option above)\n",
      "     -thermo <file>     : Calculate thermo data for given structure. Also requires vibrational\n",
      "                          frequencies in the TM format, saved as file called \"vibspectrum\"\n",
      "     -rmsd,-rmsdheavy <file1> <file2>  : Calculate RMSD or heavy atom RMSD between two structures.\n",
      "                                         Input coords are automatically transformed to Angstroem.\n",
      "     -splitfile <file> [from] [to]     : Split an ensemble from <file> into seperate directories\n",
      "                                         for each structure. [from] and [to] can be used to select\n",
      "                                         specific structures from the file.\n",
      "                                         The new directories are collected in the SPLIT directory.\n",
      "\n",
      "\n",
      " View literature references with [--cite]\n",
      " Also refer to:\n",
      " https://xtb-docs.readthedocs.io/en/latest/crest.html\n",
      "\n",
      "STOP    [-h] displayed. exit.\n"
     ]
    }
   ],
   "source": [
    "# take a look at the help documentation (go to their online documentaiton for more in-depth details)\n",
    "\n",
    "! crest -h"
   ]
  },
  {
   "cell_type": "markdown",
   "id": "d85f941d-f136-4535-ad00-a7ff644de555",
   "metadata": {},
   "source": [
    "## Example 1. Cyclohexane\n",
    "This should produce 2 conformers the chair and twisted boat, with an energy difference ~5-6 kcal/mol."
   ]
  },
  {
   "cell_type": "code",
   "execution_count": 5,
   "id": "36ccfb9e-69f3-49ab-8ec0-dafb064c4ca0",
   "metadata": {},
   "outputs": [
    {
     "data": {
      "text/plain": [
       "'/Users/heidiklem/Desktop/CAMLC/CAMLC25/camlcworkshop.github.io/content/session_4_klem'"
      ]
     },
     "execution_count": 5,
     "metadata": {},
     "output_type": "execute_result"
    }
   ],
   "source": [
    "pwd"
   ]
  },
  {
   "cell_type": "code",
   "execution_count": 6,
   "id": "af26c0fa-0c44-446b-9c84-750df20a3247",
   "metadata": {},
   "outputs": [],
   "source": [
    "mkdir cyclohexane"
   ]
  },
  {
   "cell_type": "code",
   "execution_count": 7,
   "id": "35debf20-ba6c-4b90-85df-3b5ff852f48a",
   "metadata": {},
   "outputs": [
    {
     "name": "stdout",
     "output_type": "stream",
     "text": [
      "/Users/heidiklem/Desktop/CAMLC/CAMLC25/camlcworkshop.github.io/content/session_4_klem/cyclohexane\n"
     ]
    }
   ],
   "source": [
    "cd cyclohexane"
   ]
  },
  {
   "cell_type": "code",
   "execution_count": 8,
   "id": "17d30c1e-41cc-4f31-bf9f-ff5f79cee181",
   "metadata": {},
   "outputs": [],
   "source": [
    "! echo ' 18\\n \\n C                 -4.62803165   -0.43476624   -0.08484647 \\n C                 -3.23287165   -0.43476624   -0.08484647 \\n C                 -2.53533365    0.77298476   -0.08484647 \\n C                 -3.23298765    1.98149376   -0.08604547 \\n C                 -4.62781265    1.98141576   -0.08652447 \\n C                 -5.32541365    0.77320976   -0.08552847\\n H                 -4.94422650   -0.98290197   -0.94767209\\n H                 -2.91671917   -0.98245367    0.77827929\\n H                 -1.90370575    0.77335010    0.77883522\\n H                 -2.91710116    2.52982791    0.77676701\\n H                 -4.94430836    2.52995291    0.77593565\\n H                 -5.95798469    0.77262735   -0.94851951\\n H                 -4.94371544    2.52818751   -0.95032196\\n H                 -2.91650825    2.52845749   -0.94951028\\n H                 -1.90222269    0.77249356   -0.94744156\\n H                 -2.91671917   -0.98245367   -0.94797224\\n H                 -4.94422650   -0.98192735    0.77859752\\n H                 -5.95759632    0.77382617    0.77774708' > cyclohexane.xyz"
   ]
  },
  {
   "cell_type": "code",
   "execution_count": 9,
   "id": "ff594bd7-d6c1-4a8b-9a4e-607e2e36e8cb",
   "metadata": {},
   "outputs": [
    {
     "name": "stdout",
     "output_type": "stream",
     "text": [
      "CPU times: user 360 ms, sys: 146 ms, total: 507 ms\n",
      "Wall time: 2min 6s\n"
     ]
    }
   ],
   "source": [
    "%%time\n",
    "\n",
    "! crest cyclohexane.xyz >> cyclohexane.out \n",
    "\n",
    "# take a look at the crest_conformers.xyz file that is produced in a molecular visualation software \n",
    "# to see the two conformers"
   ]
  },
  {
   "cell_type": "code",
   "execution_count": 22,
   "id": "8886537a-5439-4182-96b9-0943d91ab991",
   "metadata": {},
   "outputs": [],
   "source": [
    "def print_relative_energies(ensemble_xyz_file = 'crest_conformers.xyz'):\n",
    "    ha_to_kcal = 627.5095\n",
    "    with open(ensemble_xyz_file) as f:\n",
    "        data = f.readlines()\n",
    "    conf_count = 0\n",
    "    for line in data:\n",
    "        if line.startswith('      '):\n",
    "            energy_ha = float(line.split()[0])\n",
    "            energy_kcal = energy_ha*ha_to_kcal\n",
    "            if conf_count == 0:\n",
    "                ref_energy = energy_kcal\n",
    "            conf_count += 1\n",
    "            print(f'Conformer {conf_count}: {energy_kcal-ref_energy} kcal/mol')"
   ]
  },
  {
   "cell_type": "code",
   "execution_count": 23,
   "id": "eb036727-04be-406c-8875-1452fa30a1d3",
   "metadata": {},
   "outputs": [
    {
     "name": "stdout",
     "output_type": "stream",
     "text": [
      "Conformer 1: 0.0 kcal/mol\n",
      "Conformer 2: 5.3858763879306935 kcal/mol\n"
     ]
    }
   ],
   "source": [
    "print_relative_energies()"
   ]
  },
  {
   "cell_type": "markdown",
   "id": "b12f8ab4-a8e2-4f66-ba28-6046e7d56d48",
   "metadata": {},
   "source": [
    "Take a look at the crest_conformers.xyz file that is produced in a molecular visualation software  to see there are many conformers. The lowest energy conformers look mostly like pi-stacked, sandwiched and t-shaped conformers. Some of the higher E conformers start to move pretty far away. Usually you have to play around with more complicated key words to optimize a conformational search for non covalent complexes."
   ]
  },
  {
   "cell_type": "code",
   "execution_count": 10,
   "id": "33d56688-15b9-4bfa-b74a-813092e6fbef",
   "metadata": {},
   "outputs": [],
   "source": [
    "# open directory and visualize conformational ensemble.\n",
    "! open ."
   ]
  },
  {
   "cell_type": "markdown",
   "id": "b243a1ae-8ee4-46eb-a9e9-ed84ab326f6c",
   "metadata": {},
   "source": [
    "## Example 2. Benzene Dimer\n",
    "How does CREST deal with non-covalent interactions?"
   ]
  },
  {
   "cell_type": "code",
   "execution_count": 24,
   "id": "83cb5d0d-784f-42a4-b322-d6d8635c7827",
   "metadata": {},
   "outputs": [
    {
     "name": "stdout",
     "output_type": "stream",
     "text": [
      "mkdir: ../benzene_dimer: File exists\n"
     ]
    }
   ],
   "source": [
    "mkdir ../benzene_dimer"
   ]
  },
  {
   "cell_type": "code",
   "execution_count": 25,
   "id": "5cd60331-884b-4bae-bfed-9369abfeff24",
   "metadata": {},
   "outputs": [
    {
     "name": "stdout",
     "output_type": "stream",
     "text": [
      "/Users/heidiklem/Desktop/CAMLC/CAMLC25/camlcworkshop.github.io/content/session_4_klem/benzene_dimer\n"
     ]
    }
   ],
   "source": [
    "cd ../benzene_dimer"
   ]
  },
  {
   "cell_type": "code",
   "execution_count": 26,
   "id": "577f1d2f-3e96-445e-927b-788566d13a1d",
   "metadata": {},
   "outputs": [],
   "source": [
    "! echo '24        \\nbenzene_dimer\\nC -3.157522 -2.786968 0.001678\\nC -1.762362 -2.786968 0.001678\\nC -1.064824 -1.579218 0.001678\\nC -1.762478 -0.370708 0.000479\\nC -3.157303 -0.370787 0.000000\\nC -3.854904 -1.578992 0.000996\\nH -3.707281 -3.739285 0.002128\\nH -1.212854 -3.739481 0.002993\\nH 0.034856 -1.579138 0.002312\\nH -1.212278 0.581434 0.000420\\nH -3.707425 0.581495 -0.000953\\nH -4.954508 -1.578809 0.000816\\nC -2.881612 -2.926122 -2.106352\\nC -1.487345 -2.876234 -2.105073\\nC -0.833454 -1.644572 -2.079438\\nC -1.573889 -0.462018 -2.056266\\nC -2.967818 -0.511962 -2.058025\\nC -3.621757 -1.744101 -2.082673\\nH -3.396956 -3.897294 -2.126115\\nH -0.904118 -3.808311 -2.122967\\nH 0.265519 -1.605183 -2.077795\\nH -1.058099 0.508987 -2.036115\\nH -3.551651 0.419854 -2.039774\\nH -4.720664 -1.783234 -2.083857' > benzene_dimer.xyz"
   ]
  },
  {
   "cell_type": "code",
   "execution_count": 27,
   "id": "3ff6d02b-da63-432f-abfd-3340fc7a6586",
   "metadata": {},
   "outputs": [
    {
     "name": "stdout",
     "output_type": "stream",
     "text": [
      "CPU times: user 986 ms, sys: 402 ms, total: 1.39 s\n",
      "Wall time: 6min 8s\n"
     ]
    }
   ],
   "source": [
    "%%time \n",
    "! crest benzene_dimer.xyz --nci >> benzene_dimer_nci.out "
   ]
  },
  {
   "cell_type": "code",
   "execution_count": null,
   "id": "1baa1eab-a57f-4156-8d66-258dde2b06b1",
   "metadata": {},
   "outputs": [],
   "source": [
    "# open directory and visualize conformational ensemble.\n",
    "! open ."
   ]
  },
  {
   "cell_type": "markdown",
   "id": "fb178ede-8a00-4976-9561-0a14ab98517f",
   "metadata": {},
   "source": [
    "The lowest energy conformers look mostly like pi-stacked, sandwiched and t-shaped conformers. Some of the higher E conformers start to move pretty far away. Usually you have to play around with more complicated key words to optimize a conformational search for non covalent complexes."
   ]
  },
  {
   "cell_type": "markdown",
   "id": "61668f98-c4cb-4a84-9f5f-f763e7899685",
   "metadata": {},
   "source": [
    "## Example 3. Ala-gly peptide\n",
    "#### gfn-ff vs. gfn2-xTB"
   ]
  },
  {
   "cell_type": "code",
   "execution_count": 29,
   "id": "d769a1b6-1721-4a5b-b71e-a63d3fe6b92e",
   "metadata": {},
   "outputs": [],
   "source": [
    "mkdir ../AG_peptide_gff\n",
    "mkdir ../AG_peptide_gfn2"
   ]
  },
  {
   "cell_type": "code",
   "execution_count": 30,
   "id": "176ce22b-4eeb-4147-ad9c-a7fce1695dbe",
   "metadata": {},
   "outputs": [
    {
     "name": "stdout",
     "output_type": "stream",
     "text": [
      "/Users/heidiklem/Desktop/CAMLC/CAMLC25/camlcworkshop.github.io/content/session_4_klem/AG_peptide\n"
     ]
    }
   ],
   "source": [
    "cd ../AG_peptide_gff"
   ]
  },
  {
   "cell_type": "code",
   "execution_count": 31,
   "id": "ec741922-c3f7-471c-9d2b-7faf683e0a01",
   "metadata": {},
   "outputs": [],
   "source": [
    "! echo '  20\\n\\nC          2.0814400000        0.6151000000       -0.5084300000\\nC          2.7422300000        1.8240300000       -1.2008200000\\nN          4.1177900000        1.7998700000       -1.1904100000\\nC          4.9435700000        2.8270400000       -1.8220600000\\nC          6.4400800000        2.5693600000       -1.6376000000\\nO          7.3516000000        3.2522700000       -2.0690900000\\nN          0.6101000000        0.6950900000       -0.5387800000\\nO          2.0955600000        2.7249400000       -1.7396700000\\nO          6.7052200000        1.4634100000       -0.8974600000\\nH          0.3030800000        1.4260600000        0.1037700000\\nH          0.3384200000        1.0506800000       -1.4604800000\\nC          2.4887530000       -0.5934000000       -1.1984480000\\nH          2.4165000000        0.5574000000        0.5320500000\\nH          4.6141000000        1.0819800000       -0.6705500000\\nH          4.6998500000        3.7944600000       -1.3737200000\\nH          4.7228900000        2.8446900000       -2.8941800000\\nH          7.6874000000        1.4486200000       -0.8603400000\\nH          2.0292010000       -1.4570080000       -0.7199990000\\nH          2.1702330000       -0.5424110000       -2.2385760000\\nH          3.5727300000       -0.6884050000       -1.1549980000' > ala-gly.xyz"
   ]
  },
  {
   "cell_type": "code",
   "execution_count": 32,
   "id": "2999423c-1a7b-4a04-b98b-7c34ed86cc59",
   "metadata": {},
   "outputs": [
    {
     "name": "stdout",
     "output_type": "stream",
     "text": [
      "CPU times: user 337 ms, sys: 118 ms, total: 456 ms\n",
      "Wall time: 1min 22s\n"
     ]
    }
   ],
   "source": [
    "%%time \n",
    "! crest ala-gly.xyz --gff >> ala-gly_gff.out"
   ]
  },
  {
   "cell_type": "code",
   "execution_count": null,
   "id": "3d4320e6-3bee-4f27-bd94-8bfe9533021e",
   "metadata": {},
   "outputs": [],
   "source": [
    "cd ../AG_peptide_gfn2"
   ]
  },
  {
   "cell_type": "code",
   "execution_count": 33,
   "id": "d4e6746f-92e8-4f5f-8620-6e244a4ded7e",
   "metadata": {},
   "outputs": [
    {
     "name": "stdout",
     "output_type": "stream",
     "text": [
      "CPU times: user 1.36 s, sys: 562 ms, total: 1.92 s\n",
      "Wall time: 8min 58s\n"
     ]
    }
   ],
   "source": [
    "%%time \n",
    "! crest ala-gly.xyz --gfn2 >> ala-gly_gfn2.out"
   ]
  },
  {
   "cell_type": "code",
   "execution_count": null,
   "id": "cf5a93ba-4e0b-41e5-881c-46d4763bf2b8",
   "metadata": {},
   "outputs": [],
   "source": [
    "# open directory and visualize conformational ensemble.\n",
    "! open ."
   ]
  },
  {
   "cell_type": "code",
   "execution_count": 35,
   "id": "0974d056-b186-4373-8dc9-f760d84939d9",
   "metadata": {},
   "outputs": [],
   "source": [
    "! open ../../"
   ]
  },
  {
   "cell_type": "code",
   "execution_count": null,
   "id": "c4d7c62f-071d-4e56-a947-08bdda52ae52",
   "metadata": {},
   "outputs": [],
   "source": []
  }
 ],
 "metadata": {
  "kernelspec": {
   "display_name": "Python 3 (ipykernel)",
   "language": "python",
   "name": "python3"
  },
  "language_info": {
   "codemirror_mode": {
    "name": "ipython",
    "version": 3
   },
   "file_extension": ".py",
   "mimetype": "text/x-python",
   "name": "python",
   "nbconvert_exporter": "python",
   "pygments_lexer": "ipython3",
   "version": "3.12.3"
  }
 },
 "nbformat": 4,
 "nbformat_minor": 5
}
