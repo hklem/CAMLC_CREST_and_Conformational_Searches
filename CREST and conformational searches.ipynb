{
 "cells": [
  {
   "cell_type": "markdown",
   "id": "cfd66ef3-fbfc-471f-a0f0-317d0adcbe07",
   "metadata": {},
   "source": [
    "# CREST and conformational searches\n",
    "### [CREST](https://crest-lab.github.io/crest-docs/) (originally abbreviated from Conformer-Rotamer Ensemble Sampling Tool) is a program for the automated exploration of the low-energy molecular chemical space. It functions as an OMP (?) scheduler for calculations with efficient force-field and semiempirical quantum mechanical methods such as xTB, and provides a variety of capabilities for creation and analysis of structure ensembles.\n",
    "\n",
    "First, let's take a look at what version of CREST you are working with. Paying attention to program versions is critical for a few reasons:\n",
    "1. So you know what documentation to follow, because programs change! In fact, there are structured guidelines for [how Python program changes are reflected in version schemes](https://py-pkgs.org/07-releasing-versioning.html).\n",
    "2. If you are using multiple computing resources for the same project you want to make sure the version is the same, in case differences across versions can alter results (hint, use virtual environments to contain speficic versions!)\n",
    "3. Reproducibility! It is an absolute MUST to report what version of software you used in publications (even if the journal does not explicitly request it, this is a community standard). \n",
    "4. Can you think of any other reasons?"
   ]
  },
  {
   "cell_type": "code",
   "execution_count": null,
   "id": "2d7b9236-d170-4f26-902d-1c1dc2fcaeee",
   "metadata": {
    "scrolled": true,
    "tags": []
   },
   "outputs": [],
   "source": [
    "  ! crest --version"
   ]
  },
  {
   "cell_type": "markdown",
   "id": "853f6d2d-c145-48ab-9800-7cc9241c0da4",
   "metadata": {},
   "source": [
    "<div class=\"alert alert-block alert-warning\">\n",
    "<b>CREST check</b>\n",
    "    \n",
    "Is anyone unable to get CREST to run? \n",
    "\n",
    "Double check your virtual environment (conda activate cheminf)."
   ]
  },
  {
   "cell_type": "code",
   "execution_count": null,
   "id": "8fb560ea-ce8b-43cb-a43b-2c8ecb4ca054",
   "metadata": {},
   "outputs": [],
   "source": [
    "# take a look at the help documentation (go to their online documentation for more in-depth details)\n",
    "\n",
    "! crest -h"
   ]
  },
  {
   "cell_type": "markdown",
   "id": "d85f941d-f136-4535-ad00-a7ff644de555",
   "metadata": {},
   "source": [
    "## Example 1. Cyclohexane\n",
    "This should produce 2 conformers the chair and twisted boat, with an energy difference ~5-6 kcal/mol."
   ]
  },
  {
   "cell_type": "code",
   "execution_count": null,
   "id": "36ccfb9e-69f3-49ab-8ec0-dafb064c4ca0",
   "metadata": {},
   "outputs": [],
   "source": [
    "pwd"
   ]
  },
  {
   "cell_type": "code",
   "execution_count": null,
   "id": "af26c0fa-0c44-446b-9c84-750df20a3247",
   "metadata": {},
   "outputs": [],
   "source": [
    "mkdir cyclohexane"
   ]
  },
  {
   "cell_type": "code",
   "execution_count": null,
   "id": "35debf20-ba6c-4b90-85df-3b5ff852f48a",
   "metadata": {},
   "outputs": [],
   "source": [
    "cd cyclohexane"
   ]
  },
  {
   "cell_type": "code",
   "execution_count": null,
   "id": "17d30c1e-41cc-4f31-bf9f-ff5f79cee181",
   "metadata": {},
   "outputs": [],
   "source": [
    "! echo -e ' 18\\n \\n C                 -4.62803165   -0.43476624   -0.08484647 \\n C                 -3.23287165   -0.43476624   -0.08484647 \\n C                 -2.53533365    0.77298476   -0.08484647 \\n C                 -3.23298765    1.98149376   -0.08604547 \\n C                 -4.62781265    1.98141576   -0.08652447 \\n C                 -5.32541365    0.77320976   -0.08552847\\n H                 -4.94422650   -0.98290197   -0.94767209\\n H                 -2.91671917   -0.98245367    0.77827929\\n H                 -1.90370575    0.77335010    0.77883522\\n H                 -2.91710116    2.52982791    0.77676701\\n H                 -4.94430836    2.52995291    0.77593565\\n H                 -5.95798469    0.77262735   -0.94851951\\n H                 -4.94371544    2.52818751   -0.95032196\\n H                 -2.91650825    2.52845749   -0.94951028\\n H                 -1.90222269    0.77249356   -0.94744156\\n H                 -2.91671917   -0.98245367   -0.94797224\\n H                 -4.94422650   -0.98192735    0.77859752\\n H                 -5.95759632    0.77382617    0.77774708' > cyclohexane.xyz"
   ]
  },
  {
   "cell_type": "code",
   "execution_count": null,
   "id": "ff594bd7-d6c1-4a8b-9a4e-607e2e36e8cb",
   "metadata": {},
   "outputs": [],
   "source": [
    "%%time\n",
    "\n",
    "! crest cyclohexane.xyz >> cyclohexane.out \n",
    "\n",
    "# take a look at the crest_conformers.xyz file that is produced in a molecular visualation software \n",
    "# to see the two conformers"
   ]
  },
  {
   "cell_type": "code",
   "execution_count": null,
   "id": "8886537a-5439-4182-96b9-0943d91ab991",
   "metadata": {},
   "outputs": [],
   "source": [
    "def print_relative_energies(ensemble_xyz_file = 'crest_conformers.xyz'):\n",
    "    ha_to_kcal = 627.5095\n",
    "    with open(ensemble_xyz_file) as f:\n",
    "        data = f.readlines()\n",
    "    conf_count = 0\n",
    "    for line in data:\n",
    "        if line.startswith('      '):\n",
    "            energy_ha = float(line.split()[0])\n",
    "            energy_kcal = energy_ha*ha_to_kcal\n",
    "            if conf_count == 0:\n",
    "                ref_energy = energy_kcal\n",
    "            conf_count += 1\n",
    "            print(f'Conformer {conf_count}: {energy_kcal-ref_energy} kcal/mol')"
   ]
  },
  {
   "cell_type": "code",
   "execution_count": null,
   "id": "eb036727-04be-406c-8875-1452fa30a1d3",
   "metadata": {},
   "outputs": [],
   "source": [
    "print_relative_energies()"
   ]
  },
  {
   "cell_type": "markdown",
   "id": "b12f8ab4-a8e2-4f66-ba28-6046e7d56d48",
   "metadata": {},
   "source": [
    "Take a look at the crest_conformers.xyz file that is produced in a molecular visualization software  to see there are many conformers. The lowest energy conformers look mostly like pi-stacked, sandwiched and t-shaped conformers. Some of the higher E conformers start to move pretty far away. Usually you have to play around with more complicated key words to optimize a conformational search for non covalent complexes."
   ]
  },
  {
   "cell_type": "code",
   "execution_count": null,
   "id": "33d56688-15b9-4bfa-b74a-813092e6fbef",
   "metadata": {},
   "outputs": [],
   "source": [
    "# open directory and visualize conformational ensemble.\n",
    "! open ."
   ]
  },
  {
   "cell_type": "markdown",
   "id": "b243a1ae-8ee4-46eb-a9e9-ed84ab326f6c",
   "metadata": {},
   "source": [
    "## Example 2. Benzene Dimer\n",
    "How does CREST deal with non-covalent interactions?"
   ]
  },
  {
   "cell_type": "code",
   "execution_count": null,
   "id": "83cb5d0d-784f-42a4-b322-d6d8635c7827",
   "metadata": {},
   "outputs": [],
   "source": [
    "mkdir ../benzene_dimer"
   ]
  },
  {
   "cell_type": "code",
   "execution_count": null,
   "id": "5cd60331-884b-4bae-bfed-9369abfeff24",
   "metadata": {},
   "outputs": [],
   "source": [
    "cd ../benzene_dimer"
   ]
  },
  {
   "cell_type": "code",
   "execution_count": null,
   "id": "577f1d2f-3e96-445e-927b-788566d13a1d",
   "metadata": {},
   "outputs": [],
   "source": [
    "! echo -e '24        \\nbenzene_dimer\\nC -3.157522 -2.786968 0.001678\\nC -1.762362 -2.786968 0.001678\\nC -1.064824 -1.579218 0.001678\\nC -1.762478 -0.370708 0.000479\\nC -3.157303 -0.370787 0.000000\\nC -3.854904 -1.578992 0.000996\\nH -3.707281 -3.739285 0.002128\\nH -1.212854 -3.739481 0.002993\\nH 0.034856 -1.579138 0.002312\\nH -1.212278 0.581434 0.000420\\nH -3.707425 0.581495 -0.000953\\nH -4.954508 -1.578809 0.000816\\nC -2.881612 -2.926122 -2.106352\\nC -1.487345 -2.876234 -2.105073\\nC -0.833454 -1.644572 -2.079438\\nC -1.573889 -0.462018 -2.056266\\nC -2.967818 -0.511962 -2.058025\\nC -3.621757 -1.744101 -2.082673\\nH -3.396956 -3.897294 -2.126115\\nH -0.904118 -3.808311 -2.122967\\nH 0.265519 -1.605183 -2.077795\\nH -1.058099 0.508987 -2.036115\\nH -3.551651 0.419854 -2.039774\\nH -4.720664 -1.783234 -2.083857' > benzene_dimer.xyz"
   ]
  },
  {
   "cell_type": "code",
   "execution_count": null,
   "id": "3ff6d02b-da63-432f-abfd-3340fc7a6586",
   "metadata": {},
   "outputs": [],
   "source": [
    "%%time \n",
    "! crest benzene_dimer.xyz --nci >> benzene_dimer_nci.out "
   ]
  },
  {
   "cell_type": "code",
   "execution_count": null,
   "id": "1baa1eab-a57f-4156-8d66-258dde2b06b1",
   "metadata": {},
   "outputs": [],
   "source": [
    "# open directory and visualize conformational ensemble.\n",
    "! open ."
   ]
  },
  {
   "cell_type": "markdown",
   "id": "fb178ede-8a00-4976-9561-0a14ab98517f",
   "metadata": {},
   "source": [
    "The lowest energy conformers look mostly like pi-stacked, sandwiched and t-shaped conformers. Some of the higher E conformers start to move pretty far away. Usually you have to play around with more complicated key words to optimize a conformational search for non covalent complexes."
   ]
  },
  {
   "cell_type": "markdown",
   "id": "61668f98-c4cb-4a84-9f5f-f763e7899685",
   "metadata": {},
   "source": [
    "## Example 3. Ala-gly peptide\n",
    "#### gfn-ff vs. gfn2-xTB"
   ]
  },
  {
   "cell_type": "code",
   "execution_count": null,
   "id": "d769a1b6-1721-4a5b-b71e-a63d3fe6b92e",
   "metadata": {},
   "outputs": [],
   "source": [
    "mkdir ../AG_peptide_gff\n",
    "mkdir ../AG_peptide_gfn2"
   ]
  },
  {
   "cell_type": "code",
   "execution_count": null,
   "id": "176ce22b-4eeb-4147-ad9c-a7fce1695dbe",
   "metadata": {},
   "outputs": [],
   "source": [
    "cd ../AG_peptide_gff"
   ]
  },
  {
   "cell_type": "code",
   "execution_count": null,
   "id": "ec741922-c3f7-471c-9d2b-7faf683e0a01",
   "metadata": {},
   "outputs": [],
   "source": [
    "! echo -e '  20\\n\\nC          2.0814400000        0.6151000000       -0.5084300000\\nC          2.7422300000        1.8240300000       -1.2008200000\\nN          4.1177900000        1.7998700000       -1.1904100000\\nC          4.9435700000        2.8270400000       -1.8220600000\\nC          6.4400800000        2.5693600000       -1.6376000000\\nO          7.3516000000        3.2522700000       -2.0690900000\\nN          0.6101000000        0.6950900000       -0.5387800000\\nO          2.0955600000        2.7249400000       -1.7396700000\\nO          6.7052200000        1.4634100000       -0.8974600000\\nH          0.3030800000        1.4260600000        0.1037700000\\nH          0.3384200000        1.0506800000       -1.4604800000\\nC          2.4887530000       -0.5934000000       -1.1984480000\\nH          2.4165000000        0.5574000000        0.5320500000\\nH          4.6141000000        1.0819800000       -0.6705500000\\nH          4.6998500000        3.7944600000       -1.3737200000\\nH          4.7228900000        2.8446900000       -2.8941800000\\nH          7.6874000000        1.4486200000       -0.8603400000\\nH          2.0292010000       -1.4570080000       -0.7199990000\\nH          2.1702330000       -0.5424110000       -2.2385760000\\nH          3.5727300000       -0.6884050000       -1.1549980000' > ala-gly.xyz"
   ]
  },
  {
   "cell_type": "code",
   "execution_count": null,
   "id": "2999423c-1a7b-4a04-b98b-7c34ed86cc59",
   "metadata": {},
   "outputs": [],
   "source": [
    "%%time \n",
    "! crest ala-gly.xyz --gff >> ala-gly_gff.out"
   ]
  },
  {
   "cell_type": "code",
   "execution_count": null,
   "id": "3d4320e6-3bee-4f27-bd94-8bfe9533021e",
   "metadata": {},
   "outputs": [],
   "source": [
    "cd ../AG_peptide_gfn2"
   ]
  },
  {
   "cell_type": "code",
   "execution_count": null,
   "id": "09242512-f735-49e8-9a90-6e57964356b9",
   "metadata": {},
   "outputs": [],
   "source": [
    "! echo -e '  20\\n\\nC          2.0814400000        0.6151000000       -0.5084300000\\nC          2.7422300000        1.8240300000       -1.2008200000\\nN          4.1177900000        1.7998700000       -1.1904100000\\nC          4.9435700000        2.8270400000       -1.8220600000\\nC          6.4400800000        2.5693600000       -1.6376000000\\nO          7.3516000000        3.2522700000       -2.0690900000\\nN          0.6101000000        0.6950900000       -0.5387800000\\nO          2.0955600000        2.7249400000       -1.7396700000\\nO          6.7052200000        1.4634100000       -0.8974600000\\nH          0.3030800000        1.4260600000        0.1037700000\\nH          0.3384200000        1.0506800000       -1.4604800000\\nC          2.4887530000       -0.5934000000       -1.1984480000\\nH          2.4165000000        0.5574000000        0.5320500000\\nH          4.6141000000        1.0819800000       -0.6705500000\\nH          4.6998500000        3.7944600000       -1.3737200000\\nH          4.7228900000        2.8446900000       -2.8941800000\\nH          7.6874000000        1.4486200000       -0.8603400000\\nH          2.0292010000       -1.4570080000       -0.7199990000\\nH          2.1702330000       -0.5424110000       -2.2385760000\\nH          3.5727300000       -0.6884050000       -1.1549980000' > ala-gly.xyz"
   ]
  },
  {
   "cell_type": "code",
   "execution_count": null,
   "id": "d4e6746f-92e8-4f5f-8620-6e244a4ded7e",
   "metadata": {},
   "outputs": [],
   "source": [
    "%%time \n",
    "! crest ala-gly.xyz --gfn2 >> ala-gly_gfn2.out"
   ]
  },
  {
   "cell_type": "code",
   "execution_count": null,
   "id": "cf5a93ba-4e0b-41e5-881c-46d4763bf2b8",
   "metadata": {},
   "outputs": [],
   "source": [
    "# open directory and visualize conformational ensemble.\n",
    "! open ."
   ]
  },
  {
   "cell_type": "code",
   "execution_count": null,
   "id": "0974d056-b186-4373-8dc9-f760d84939d9",
   "metadata": {},
   "outputs": [],
   "source": [
    "! open ../../"
   ]
  },
  {
   "cell_type": "code",
   "execution_count": null,
   "id": "c4d7c62f-071d-4e56-a947-08bdda52ae52",
   "metadata": {},
   "outputs": [],
   "source": []
  }
 ],
 "metadata": {
  "kernelspec": {
   "display_name": "Python 3 (ipykernel)",
   "language": "python",
   "name": "python3"
  },
  "language_info": {
   "codemirror_mode": {
    "name": "ipython",
    "version": 3
   },
   "file_extension": ".py",
   "mimetype": "text/x-python",
   "name": "python",
   "nbconvert_exporter": "python",
   "pygments_lexer": "ipython3",
   "version": "3.12.3"
  }
 },
 "nbformat": 4,
 "nbformat_minor": 5
}
